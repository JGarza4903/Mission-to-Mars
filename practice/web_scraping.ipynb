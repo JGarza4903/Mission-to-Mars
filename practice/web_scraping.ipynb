{
 "cells": [
  {
   "cell_type": "code",
   "execution_count": 1,
   "metadata": {},
   "outputs": [],
   "source": [
    "# Import dependacies\n",
    "from splinter import Browser\n",
    "from bs4 import BeautifulSoup as soup \n",
    "from webdriver_manager.chrome import ChromeDriverManager\n",
    "\n",
    "# Setup browser instance\n",
    "executable_path = {'executable_path': ChromeDriverManager().install()}\n",
    "browser = Browser('chrome', **executable_path, headless=False)\n",
    "\n",
    "# Visit site\n",
    "url = 'http://quotes.toscrape.com/'\n",
    "browser.visit(url)\n",
    "\n",
    "# Parse through data\n",
    "html = browser.html\n",
    "html_soup=soup(html, 'html.parser')"
   ]
  },
  {
   "cell_type": "code",
   "execution_count": 2,
   "metadata": {},
   "outputs": [
    {
     "name": "stdout",
     "output_type": "stream",
     "text": [
      "['“The world as we have created it is a process of our thinking. It cannot be changed without changing our thinking.”', '“It is our choices, Harry, that show what we truly are, far more than our abilities.”', '“There are only two ways to live your life. One is as though nothing is a miracle. The other is as though everything is a miracle.”', '“The person, be it gentleman or lady, who has not pleasure in a good novel, must be intolerably stupid.”', \"“Imperfection is beauty, madness is genius and it's better to be absolutely ridiculous than absolutely boring.”\", '“Try not to become a man of success. Rather become a man of value.”', '“It is better to be hated for what you are than to be loved for what you are not.”', \"“I have not failed. I've just found 10,000 ways that won't work.”\", \"“A woman is like a tea bag; you never know how strong it is until it's in hot water.”\", '“A day without sunshine is like, you know, night.”']\n"
     ]
    }
   ],
   "source": [
    "# Scrape all quotes in a single span\n",
    "quotes = html_soup.findAll('span', class_='text')\n",
    "\n",
    "quote_list = [quote.text for quote in quotes]\n",
    "print(quote_list)"
   ]
  },
  {
   "cell_type": "code",
   "execution_count": 13,
   "metadata": {},
   "outputs": [
    {
     "data": {
      "text/plain": [
       "[<a href=\"/\" style=\"text-decoration: none\">Quotes to Scrape</a>,\n",
       " <a href=\"/login\">Login</a>,\n",
       " <a href=\"/author/Albert-Einstein\">(about)</a>,\n",
       " <a class=\"tag\" href=\"/tag/change/page/1/\">change</a>,\n",
       " <a class=\"tag\" href=\"/tag/deep-thoughts/page/1/\">deep-thoughts</a>,\n",
       " <a class=\"tag\" href=\"/tag/thinking/page/1/\">thinking</a>,\n",
       " <a class=\"tag\" href=\"/tag/world/page/1/\">world</a>,\n",
       " <a href=\"/author/J-K-Rowling\">(about)</a>,\n",
       " <a class=\"tag\" href=\"/tag/abilities/page/1/\">abilities</a>,\n",
       " <a class=\"tag\" href=\"/tag/choices/page/1/\">choices</a>,\n",
       " <a href=\"/author/Albert-Einstein\">(about)</a>,\n",
       " <a class=\"tag\" href=\"/tag/inspirational/page/1/\">inspirational</a>,\n",
       " <a class=\"tag\" href=\"/tag/life/page/1/\">life</a>,\n",
       " <a class=\"tag\" href=\"/tag/live/page/1/\">live</a>,\n",
       " <a class=\"tag\" href=\"/tag/miracle/page/1/\">miracle</a>,\n",
       " <a class=\"tag\" href=\"/tag/miracles/page/1/\">miracles</a>,\n",
       " <a href=\"/author/Jane-Austen\">(about)</a>,\n",
       " <a class=\"tag\" href=\"/tag/aliteracy/page/1/\">aliteracy</a>,\n",
       " <a class=\"tag\" href=\"/tag/books/page/1/\">books</a>,\n",
       " <a class=\"tag\" href=\"/tag/classic/page/1/\">classic</a>,\n",
       " <a class=\"tag\" href=\"/tag/humor/page/1/\">humor</a>,\n",
       " <a href=\"/author/Marilyn-Monroe\">(about)</a>,\n",
       " <a class=\"tag\" href=\"/tag/be-yourself/page/1/\">be-yourself</a>,\n",
       " <a class=\"tag\" href=\"/tag/inspirational/page/1/\">inspirational</a>,\n",
       " <a href=\"/author/Albert-Einstein\">(about)</a>,\n",
       " <a class=\"tag\" href=\"/tag/adulthood/page/1/\">adulthood</a>,\n",
       " <a class=\"tag\" href=\"/tag/success/page/1/\">success</a>,\n",
       " <a class=\"tag\" href=\"/tag/value/page/1/\">value</a>,\n",
       " <a href=\"/author/Andre-Gide\">(about)</a>,\n",
       " <a class=\"tag\" href=\"/tag/life/page/1/\">life</a>,\n",
       " <a class=\"tag\" href=\"/tag/love/page/1/\">love</a>,\n",
       " <a href=\"/author/Thomas-A-Edison\">(about)</a>,\n",
       " <a class=\"tag\" href=\"/tag/edison/page/1/\">edison</a>,\n",
       " <a class=\"tag\" href=\"/tag/failure/page/1/\">failure</a>,\n",
       " <a class=\"tag\" href=\"/tag/inspirational/page/1/\">inspirational</a>,\n",
       " <a class=\"tag\" href=\"/tag/paraphrased/page/1/\">paraphrased</a>,\n",
       " <a href=\"/author/Eleanor-Roosevelt\">(about)</a>,\n",
       " <a class=\"tag\" href=\"/tag/misattributed-eleanor-roosevelt/page/1/\">misattributed-eleanor-roosevelt</a>,\n",
       " <a href=\"/author/Steve-Martin\">(about)</a>,\n",
       " <a class=\"tag\" href=\"/tag/humor/page/1/\">humor</a>,\n",
       " <a class=\"tag\" href=\"/tag/obvious/page/1/\">obvious</a>,\n",
       " <a class=\"tag\" href=\"/tag/simile/page/1/\">simile</a>,\n",
       " <a href=\"/page/2/\">Next <span aria-hidden=\"true\">→</span></a>,\n",
       " <a class=\"tag\" href=\"/tag/love/\" style=\"font-size: 28px\">love</a>,\n",
       " <a class=\"tag\" href=\"/tag/inspirational/\" style=\"font-size: 26px\">inspirational</a>,\n",
       " <a class=\"tag\" href=\"/tag/life/\" style=\"font-size: 26px\">life</a>,\n",
       " <a class=\"tag\" href=\"/tag/humor/\" style=\"font-size: 24px\">humor</a>,\n",
       " <a class=\"tag\" href=\"/tag/books/\" style=\"font-size: 22px\">books</a>,\n",
       " <a class=\"tag\" href=\"/tag/reading/\" style=\"font-size: 14px\">reading</a>,\n",
       " <a class=\"tag\" href=\"/tag/friendship/\" style=\"font-size: 10px\">friendship</a>,\n",
       " <a class=\"tag\" href=\"/tag/friends/\" style=\"font-size: 8px\">friends</a>,\n",
       " <a class=\"tag\" href=\"/tag/truth/\" style=\"font-size: 8px\">truth</a>,\n",
       " <a class=\"tag\" href=\"/tag/simile/\" style=\"font-size: 6px\">simile</a>,\n",
       " <a href=\"https://www.goodreads.com/quotes\">GoodReads.com</a>,\n",
       " <a href=\"https://scrapinghub.com\">Scrapinghub</a>]"
      ]
     },
     "execution_count": 13,
     "metadata": {},
     "output_type": "execute_result"
    }
   ],
   "source": [
    "# Skill Drill\n",
    "links = html_soup.findAll('a')\n",
    "\n",
    "link_list = [link for link in links]\n",
    "link_list"
   ]
  },
  {
   "cell_type": "code",
   "execution_count": 4,
   "metadata": {},
   "outputs": [],
   "source": [
    "# This method finds a clickable link according to its text—in this case, \"Next\", and automatically clicks it. \n",
    "browser.links.find_by_partial_text('Next').click()\n"
   ]
  }
 ],
 "metadata": {
  "kernelspec": {
   "display_name": "PythonData",
   "language": "python",
   "name": "pythondata"
  },
  "language_info": {
   "codemirror_mode": {
    "name": "ipython",
    "version": 3
   },
   "file_extension": ".py",
   "mimetype": "text/x-python",
   "name": "python",
   "nbconvert_exporter": "python",
   "pygments_lexer": "ipython3",
   "version": "3.9.12"
  },
  "orig_nbformat": 4,
  "vscode": {
   "interpreter": {
    "hash": "6755d97610a3bc250389336d42e4b6aa6e8c062111a1af0f01a0d6ac7dd7e266"
   }
  }
 },
 "nbformat": 4,
 "nbformat_minor": 2
}
