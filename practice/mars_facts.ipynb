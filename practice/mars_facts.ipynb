{
 "cells": [
  {
   "cell_type": "code",
   "execution_count": 2,
   "metadata": {},
   "outputs": [],
   "source": [
    "#Import dependacies\n",
    "from bs4 import BeautifulSoup as soup\n",
    "from splinter import Browser\n",
    "from webdriver_manager.chrome import ChromeDriverManager\n",
    "\n",
    "#Setup splinter\n",
    "executable_path = {'executable_path': ChromeDriverManager().install()}\n",
    "browser=Browser('chrome', **executable_path, headless=False)\n",
    "\n",
    "#Visit Site\n",
    "url = 'https://galaxyfacts-mars.com/'\n",
    "browser.visit(url)\n",
    "\n",
    "# Parse through websit data\n",
    "html = browser.html\n",
    "html_soup= soup(html, 'html.parser')"
   ]
  },
  {
   "cell_type": "code",
   "execution_count": 4,
   "metadata": {},
   "outputs": [
    {
     "name": "stdout",
     "output_type": "stream",
     "text": [
      "<table class=\"table table-striped\">\n",
      " <tbody>\n",
      "  <tr>\n",
      "   <th scope=\"row\">\n",
      "    Equatorial Diameter:\n",
      "   </th>\n",
      "   <td>\n",
      "    6,792 km\n",
      "   </td>\n",
      "  </tr>\n",
      "  <tr>\n",
      "   <th scope=\"row\">\n",
      "    Polar Diameter:\n",
      "   </th>\n",
      "   <td>\n",
      "    6,752 km\n",
      "   </td>\n",
      "  </tr>\n",
      "  <tr>\n",
      "   <th scope=\"row\">\n",
      "    Mass:\n",
      "   </th>\n",
      "   <td>\n",
      "    6.39 × 10^23 kg (0.11 Earths)\n",
      "   </td>\n",
      "  </tr>\n",
      "  <tr>\n",
      "   <th scope=\"row\">\n",
      "    Moons:\n",
      "   </th>\n",
      "   <td>\n",
      "    2 (\n",
      "    <span class=\"red\">\n",
      "     Phobos\n",
      "    </span>\n",
      "    &amp;\n",
      "    <span class=\"red\">\n",
      "     Deimos\n",
      "    </span>\n",
      "    )\n",
      "   </td>\n",
      "  </tr>\n",
      "  <tr>\n",
      "   <th scope=\"row\">\n",
      "    Orbit Distance:\n",
      "   </th>\n",
      "   <td>\n",
      "    227,943,824 km (1.38 AU)\n",
      "   </td>\n",
      "  </tr>\n",
      "  <tr>\n",
      "   <th scope=\"row\">\n",
      "    Orbit Period:\n",
      "   </th>\n",
      "   <td>\n",
      "    687 days (1.9 years)\n",
      "   </td>\n",
      "  </tr>\n",
      "  <tr>\n",
      "   <th scope=\"row\">\n",
      "    Surface Temperature:\n",
      "   </th>\n",
      "   <td>\n",
      "    -87 to -5 °C\n",
      "   </td>\n",
      "  </tr>\n",
      "  <tr>\n",
      "   <th scope=\"row\">\n",
      "    First Record:\n",
      "   </th>\n",
      "   <td>\n",
      "    2nd millennium BC\n",
      "   </td>\n",
      "  </tr>\n",
      "  <tr>\n",
      "   <th scope=\"row\">\n",
      "    Recorded By:\n",
      "   </th>\n",
      "   <td>\n",
      "    Egyptian astronomers\n",
      "   </td>\n",
      "  </tr>\n",
      " </tbody>\n",
      "</table>\n",
      "\n"
     ]
    }
   ],
   "source": [
    "# Get te table from Mars website\n",
    "table = html_soup.find('table', class_='table table-striped')\n",
    "print(table.prettify())"
   ]
  },
  {
   "cell_type": "code",
   "execution_count": 7,
   "metadata": {},
   "outputs": [],
   "source": [
    "# Store the table data in a python structure (Dictionary)\n",
    "mars_facts = {}\n",
    "rows = table.findAll('tr')\n",
    "for row in rows:\n",
    "    row_heading=row.find('th').text\n",
    "    row_data=row.find('td').text.strip()\n",
    "    mars_facts[row_heading] = row_data"
   ]
  },
  {
   "cell_type": "code",
   "execution_count": 8,
   "metadata": {},
   "outputs": [
    {
     "data": {
      "text/plain": [
       "{'Equatorial Diameter:': '6,792 km',\n",
       " 'Polar Diameter:': '6,752 km',\n",
       " 'Mass:': '6.39 × 10^23 kg (0.11 Earths)',\n",
       " 'Moons:': '2 ( Phobos  &  Deimos )',\n",
       " 'Orbit Distance:': '227,943,824 km (1.38 AU)',\n",
       " 'Orbit Period:': '687 days (1.9 years)',\n",
       " 'Surface Temperature:': '-87 to -5 °C',\n",
       " 'First Record:': '2nd millennium BC',\n",
       " 'Recorded By:': 'Egyptian astronomers'}"
      ]
     },
     "execution_count": 8,
     "metadata": {},
     "output_type": "execute_result"
    }
   ],
   "source": [
    "mars_facts"
   ]
  },
  {
   "cell_type": "markdown",
   "metadata": {},
   "source": [
    "Let’s go over the preceding code:\n",
    "\n",
    "The mars_facts dictionary, empty for now, will eventually hold the table data.\n",
    "\n",
    "We use the find_all method to find all the table rows (tr). We save the table rows in the rows variable.\n",
    "\n",
    "In each for loop iteration, the text of the row's table header (th) gets saved to the row_heading variable.\n",
    "\n",
    "In the same for loop iteration, the text of the row’s table data (td) gets extracted. The strip method then strips any white space that this text contains. The text then gets saved to the row_data variable.\n",
    "\n",
    "In the same for loop iteration, the row becomes an entry in the mars_facts dictionary. The table heading becomes the key, and the table data becomes the value."
   ]
  },
  {
   "cell_type": "code",
   "execution_count": 9,
   "metadata": {},
   "outputs": [],
   "source": [
    "#Quit browser session\n",
    "browser.quit()"
   ]
  },
  {
   "cell_type": "code",
   "execution_count": null,
   "metadata": {},
   "outputs": [],
   "source": []
  }
 ],
 "metadata": {
  "kernelspec": {
   "display_name": "PythonData",
   "language": "python",
   "name": "pythondata"
  },
  "language_info": {
   "codemirror_mode": {
    "name": "ipython",
    "version": 3
   },
   "file_extension": ".py",
   "mimetype": "text/x-python",
   "name": "python",
   "nbconvert_exporter": "python",
   "pygments_lexer": "ipython3",
   "version": "3.9.12"
  },
  "orig_nbformat": 4,
  "vscode": {
   "interpreter": {
    "hash": "6755d97610a3bc250389336d42e4b6aa6e8c062111a1af0f01a0d6ac7dd7e266"
   }
  }
 },
 "nbformat": 4,
 "nbformat_minor": 2
}
